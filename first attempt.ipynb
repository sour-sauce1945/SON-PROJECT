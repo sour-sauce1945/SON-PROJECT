{
 "cells": [
  {
   "cell_type": "code",
   "execution_count": 16,
   "metadata": {},
   "outputs": [
    {
     "name": "stdout",
     "output_type": "stream",
     "text": [
      "6\n"
     ]
    }
   ],
   "source": [
    "import math as mt\n",
    "\n",
    "ans = input(\"choose base or acid as a titrant\")\n",
    "if ans.lower() in [\"base\" , \"b\"] :\n",
    "    volume1 = float(input(\"Enter volume of Acid taken: \"))\n",
    "    conc1 = float(input(\"Enter concentration of acid taken: \"))\n",
    "    milimoles1 = volume1 * conc1\n",
    "\n",
    "    while True:\n",
    "   \n",
    "        volume2 = float(input(\"Enter volume of Base taken: \"))\n",
    "        conc2 = float(input(\"Enter concentration of Base taken: \"))\n",
    "        milimoles2 = volume2 * conc2\n",
    "\n",
    "        if milimoles2 < milimoles1:\n",
    "            H = (milimoles1 - milimoles2) / (volume1 + volume2)\n",
    "            pH = -(mt.log10(H))\n",
    "            print(\"Titration is before equivalence point hence the pH is \", round(pH, 2))\n",
    "    \n",
    "        elif milimoles1 == milimoles2 :\n",
    "            print(\"The Titration has reached equivalence point ,the pH is 7\")    \n",
    "    \n",
    "        else :\n",
    "             OH = (milimoles2 - milimoles1) / (volume1 + volume2)\n",
    "             pOH = -(mt.log10(OH))\n",
    "             pH2 = 14 - pOH\n",
    "             print(\"Titration is after equivalence point hence the pH is \", round(pH2, 2))\n",
    "\n",
    "\n",
    "        A = input(\"Do you want to continue adding more base ? (Yes/No): \")\n",
    "\n",
    "        if A.lower() in [\"no\", \"n\"]:\n",
    "            break\n",
    "\n",
    "elif ans.lower() in [\"acid\" , \"a\"] :\n",
    "    volume1 = float(input(\"Enter volume of base taken: \"))\n",
    "    conc1 = float(input(\"Enter concentration of base taken: \"))\n",
    "    milimoles1 = volume1 * conc1\n",
    "    \n",
    "    while True :\n",
    "\n",
    "        volume2 = float(input(\"Enter volume of acid taken: \"))\n",
    "        conc2 = float(input(\"Enter concentration of acid taken: \"))\n",
    "        milimoles2 = volume2 * conc2\n",
    "\n",
    "        if milimoles2 < milimoles1 :\n",
    "            OH = (milimoles1 - milimoles2)/ (volume1 + volume2)\n",
    "            pOH = -(mt.log10(OH))\n",
    "            ph1 = 14 - pOH\n",
    "            print(\"The titration is before equivalence point , the pH is \" , round(ph1,2))\n",
    "\n",
    "        elif milimoles1 == milimoles2 :\n",
    "            print(\"Titration has reached equivalence point , the pH is 7\")\n",
    "\n",
    "        else :\n",
    "            pH = (milimoles2 - milimoles1)/(volume1 + volume2)\n",
    "            pH = -(mt.log10(pH))\n",
    "            print(\"Titration is after equivalence point , pH is \", round(pH ,2))\n",
    "\n",
    "\n",
    "        A = input(\"Do you want to continue adding more base ? (Yes/No): \")\n",
    "\n",
    "        if A.lower() in [\"no\", \"n\"]:\n",
    "            break\n",
    "\n",
    "\n",
    "\n",
    "\n",
    "\n",
    "\n",
    "\n",
    "    \n",
    "\n"
   ]
  }
 ],
 "metadata": {
  "kernelspec": {
   "display_name": "Python 3",
   "language": "python",
   "name": "python3"
  },
  "language_info": {
   "codemirror_mode": {
    "name": "ipython",
    "version": 3
   },
   "file_extension": ".py",
   "mimetype": "text/x-python",
   "name": "python",
   "nbconvert_exporter": "python",
   "pygments_lexer": "ipython3",
   "version": "3.11.3"
  },
  "orig_nbformat": 4
 },
 "nbformat": 4,
 "nbformat_minor": 2
}
