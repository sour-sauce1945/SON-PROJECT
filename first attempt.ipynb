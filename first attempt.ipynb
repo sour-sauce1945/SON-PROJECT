{
 "cells": [
  {
   "cell_type": "code",
   "execution_count": 16,
   "metadata": {},
   "outputs": [
    {
     "name": "stdout",
     "output_type": "stream",
     "text": [
      "6\n"
     ]
    }
   ],
   "source": [
    "import math as mt\n",
    "volume1 = float(input(\"Enter volume of Acid taken\"))\n",
    "conc1 = float(input(\"Enter concentration of acid taken\"))\n",
    "milimoles1 = volume1 * conc1\n",
    "\n",
    "volume2 = float(input(\"Enter volume  of Base taken\"))\n",
    "conc2 = float(input(\"Enter concentration of Base taken\"))\n",
    "milimoles2 = volume2 * conc2\n",
    "\n",
    "if milimoles2 < milimoles1 :\n",
    "    H = (milimoles1 - milimoles2 ) / ( volume1 + volume2 )\n",
    "    pH = -(mt.log10(H))\n",
    "    print(round(pH,2))\n",
    "else :\n",
    "    OH = (milimoles2 - milimoles1) / (volume1 + volume2)\n",
    "    pOH = -(mt.log10(OH))\n",
    "    pH2 = 14 - pOH\n",
    "    print(pH2)\n",
    "\n",
    "A = input(\"Do you want to continue adding more base ?\")\n",
    "\n",
    "if A == \"Yes\" or \"Y\" or \"YES\" :\n",
    "\n",
    "\n",
    " \n"
   ]
  }
 ],
 "metadata": {
  "kernelspec": {
   "display_name": "Python 3",
   "language": "python",
   "name": "python3"
  },
  "language_info": {
   "codemirror_mode": {
    "name": "ipython",
    "version": 3
   },
   "file_extension": ".py",
   "mimetype": "text/x-python",
   "name": "python",
   "nbconvert_exporter": "python",
   "pygments_lexer": "ipython3",
   "version": "3.11.3"
  },
  "orig_nbformat": 4
 },
 "nbformat": 4,
 "nbformat_minor": 2
}
